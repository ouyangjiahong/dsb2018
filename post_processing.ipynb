{
 "cells": [
  {
   "cell_type": "code",
   "execution_count": 31,
   "metadata": {},
   "outputs": [],
   "source": [
    "import os, sys\n",
    "import numpy as np\n",
    "import matplotlib.pyplot as plt\n",
    "import random\n",
    "\n",
    "import cv2\n",
    "from skimage import io\n",
    "from skimage.io import imread, imshow, imread_collection, concatenate_images\n",
    "from skimage.transform import resize\n",
    "from skimage.morphology import label\n",
    "\n",
    "from skimage.color import rgb2gray\n",
    "from skimage.filters import threshold_otsu\n",
    "from tqdm import tqdm\n",
    "import skimage.morphology as morph\n",
    "from scipy import ndimage as ndi\n",
    "from scipy.stats import itemfreq\n",
    "from sklearn.externals import joblib\n",
    "import pylab\n",
    "%matplotlib inline "
   ]
  },
  {
   "cell_type": "code",
   "execution_count": 32,
   "metadata": {
    "collapsed": true
   },
   "outputs": [],
   "source": [
    "data_path = 'data/validation_data.npz'\n",
    "batch_size = 1"
   ]
  },
  {
   "cell_type": "code",
   "execution_count": 33,
   "metadata": {
    "collapsed": true
   },
   "outputs": [],
   "source": [
    "def plots(imgs, figsize=(12,6), rows=1, title=None, titles=None):\n",
    "    f = plt.figure(figsize=figsize)\n",
    "    if title is not None: plt.title(title)\n",
    "    for i in range(len(imgs)):\n",
    "        sp = f.add_subplot(rows, len(imgs)//rows, i+1)\n",
    "        sp.axis('Off')\n",
    "        if titles is not None: sp.set_title(titles[i], fontsize=8)\n",
    "        plt.imshow(np.squeeze(imgs[i]), cmap='gray')"
   ]
  },
  {
   "cell_type": "code",
   "execution_count": 34,
   "metadata": {
    "collapsed": true
   },
   "outputs": [],
   "source": [
    "def load_data():\n",
    "#     generator = gen.SegDataGenerator(validation_split=0.2)\n",
    "#     data = generator.flow_from_directory(data_path, subset='training', batch_size=batch_size,\n",
    "#                                         class_mode='segmentation', color_mode='grayscale',\n",
    "#                                         use_contour=True, label_bw=True)\n",
    "    data = np.load(data_path)\n",
    "    imgs = data['images']\n",
    "    masks_gt = data['masks_gt']\n",
    "    contours_gt = data['contours_gt']\n",
    "    masks_pred = data['masks_pred']\n",
    "    contours_pred = data['contours_pred']\n",
    "\n",
    "    return imgs, masks_gt, contours_gt, masks_pred, contours_pred"
   ]
  },
  {
   "cell_type": "code",
   "execution_count": 45,
   "metadata": {
    "collapsed": true
   },
   "outputs": [],
   "source": [
    "def mean_blob_size(mask):\n",
    "    # decide the size of the structure element\n",
    "    labels, labels_nr = ndi.label(mask)\n",
    "    if labels_nr < 2:\n",
    "        mean_area = 1\n",
    "        mean_radius = 1\n",
    "    else:\n",
    "        mean_area = int(itemfreq(labels)[1:, 1].mean())\n",
    "        mean_radius = int(np.round(np.sqrt(mean_area / np.pi)))\n",
    "    return mean_area, mean_radius"
   ]
  },
  {
   "cell_type": "code",
   "execution_count": 55,
   "metadata": {
    "collapsed": true
   },
   "outputs": [],
   "source": [
    "def pad_mask(mask, pad):\n",
    "    if pad <= 1:\n",
    "        pad = 2\n",
    "    h = mask.shape[0]\n",
    "    w = mask.shape[1]\n",
    "    h_pad = h + 2 * pad\n",
    "    w_pad = w + 2 * pad\n",
    "    mask_padded = np.zeros((h_pad, w_pad))\n",
    "    mask_padded[pad:pad + h, pad:pad + w] = mask\n",
    "    mask_padded[pad - 1, :] = 1\n",
    "    mask_padded[pad + h + 1, :] = 1\n",
    "    mask_padded[:, pad - 1] = 1\n",
    "    mask_padded[:, pad + w + 1] = 1\n",
    "\n",
    "    return mask_padded"
   ]
  },
  {
   "cell_type": "code",
   "execution_count": 56,
   "metadata": {
    "collapsed": true
   },
   "outputs": [],
   "source": [
    "def crop_mask(mask, crop):\n",
    "    if crop <= 1:\n",
    "        crop = 2\n",
    "    h, w = mask.shape\n",
    "    mask_cropped = mask[crop:h - crop, crop:w - crop]\n",
    "    return mask_cropped"
   ]
  },
  {
   "cell_type": "code",
   "execution_count": 90,
   "metadata": {
    "collapsed": true
   },
   "outputs": [],
   "source": [
    "def morphological_method(image, mask_gt, contour_gt, mask_pred, contour_pred):\n",
    "    mask_gt = np.squeeze(mask_gt, axis=2)\n",
    "    contour_gt = np.squeeze(contour_gt, axis=2)\n",
    "    mask_pred = np.squeeze(mask_pred, axis=2)\n",
    "    contour_pred = np.squeeze(contour_pred, axis=2)\n",
    "    \n",
    "    # mask -> binary mask, otsu\n",
    "    m_thresh = threshold_otsu(mask_pred)\n",
    "    c_thresh = threshold_otsu(contour_pred)\n",
    "    mask_binary = mask_pred > m_thresh\n",
    "    contour_binary = contour_pred > c_thresh\n",
    "    \n",
    "    # combine mask and contour and fill the holes\n",
    "    mask_tmp = np.where(mask_binary | contour_binary, 1, 0)\n",
    "    mask_tmp = ndi.binary_fill_holes(mask_tmp)\n",
    "    print(\"binary mask and combined, fill holes\")\n",
    "    plots([mask_binary, contour_binary, mask_tmp])\n",
    "    \n",
    "    # close region\n",
    "    area, radius = mean_blob_size(mask_binary)\n",
    "    struct_size = int(1.25 * radius)\n",
    "    struct_el = morph.disk(struct_size)\n",
    "    mask_padded = pad_mask(mask_tmp, pad=struct_size)\n",
    "    mask_padded = morph.binary_closing(mask_padded, selem=struct_el)\n",
    "    mask_tmp = crop_mask(mask_padded, crop=struct_size)\n",
    "    print(\"close\")\n",
    "    plots([mask_gt, mask_binary, mask_tmp])\n",
    "    \n",
    "    # erase the small artifacts\n",
    "    area, radius = mean_blob_size(mask_binary)\n",
    "    struct_size = int(0.75 * radius)\n",
    "    struct_el = morph.disk(struct_size)\n",
    "    mask_tmp = np.where(contour_binary & (~mask_binary), 0, mask_tmp)    # remove contour\n",
    "    mask_padded = pad_mask(mask_tmp, pad=struct_size)\n",
    "    mask_padded = morph.binary_opening(mask_padded, selem=struct_el)    # remove small artifact\n",
    "    mask_tmp = crop_mask(mask_padded, crop=struct_size)\n",
    "    print(\"open\")\n",
    "    plots([mask_gt, mask_binary, mask_tmp])\n",
    "    \n",
    "    # back to begining\n",
    "    mask_tmp = np.where(mask_binary | mask_tmp, 1, 0)\n",
    "    mask_tmp = ndi.binary_fill_holes(mask_tmp)\n",
    "    print(\"final result\")\n",
    "    plots([mask_gt, mask_binary, mask_tmp])\n",
    "    \n",
    "    return mask_tmp"
   ]
  },
  {
   "cell_type": "code",
   "execution_count": 111,
   "metadata": {
    "collapsed": true
   },
   "outputs": [],
   "source": [
    "def morphological_method_test(image, mask_gt, contour_gt, mask_pred, contour_pred):\n",
    "    mask_gt = np.squeeze(mask_gt, axis=2)\n",
    "    contour_gt = np.squeeze(contour_gt, axis=2)\n",
    "    mask_pred = np.squeeze(mask_pred, axis=2)\n",
    "    contour_pred = np.squeeze(contour_pred, axis=2)\n",
    "    \n",
    "    # mask -> binary mask, otsu\n",
    "    m_thresh = threshold_otsu(mask_pred)\n",
    "    c_thresh = threshold_otsu(contour_pred)\n",
    "    mask_binary = mask_pred > m_thresh\n",
    "    contour_binary = contour_pred > c_thresh\n",
    "    \n",
    "    contour_binary_thin = morph.binary_erosion(contour_binary)\n",
    "    \n",
    "    # cut the mask by contour\n",
    "    mask_tmp = np.where(~mask_binary | contour_binary_thin, 0, 1)\n",
    "#     mask_tmp = ndi.binary_fill_holes(mask_tmp)\n",
    "    print(\"cut the mask by contour\")\n",
    "    plots([mask_gt, mask_binary, contour_binary, contour_binary_thin, mask_tmp])\n",
    "    "
   ]
  },
  {
   "cell_type": "code",
   "execution_count": 91,
   "metadata": {
    "collapsed": true
   },
   "outputs": [],
   "source": [
    "def visualize(image, mask_gt, contour_gt, mask_pred, contour_pred):\n",
    "    print(\"visualize\")\n",
    "    mask_gt = np.squeeze(mask_gt, axis=2)\n",
    "    contour_gt = np.squeeze(contour_gt, axis=2)\n",
    "    mask_pred = np.squeeze(mask_pred, axis=2)\n",
    "    contour_pred = np.squeeze(contour_pred, axis=2)\n",
    "    print(\"original masks\")\n",
    "    plots([image, mask_gt, contour_gt])\n",
    "    plots([image, mask_pred, contour_pred])\n",
    "    \n",
    "    # mask -> binary mask, otsu\n",
    "    m_thresh = threshold_otsu(mask_pred)\n",
    "    c_thresh = threshold_otsu(contour_pred)\n",
    "    mask_binary = mask_pred > m_thresh\n",
    "    contour_binary = contour_pred > c_thresh\n",
    "    plots([image, mask_binary, contour_binary])\n",
    "    \n",
    "#     label_mask, num_cell_mask = ndi.label(mask_binary)   \n",
    "#     plots([image, label_mask])\n",
    "    mask_tmp = np.where(mask_binary & ~contour_binary, 1, 0)\n",
    "#     mask_tmp = np.tile(np.expand_dims(mask_tmp, axis=2), (1,1,3))\n",
    "    plots([image, mask_binary, mask_tmp])\n",
    "    \n",
    "    # get each cell and do mophological\n",
    "    mask_label, num_cell_mask = ndi.label(mask_binary)\n",
    "    mask_color = np.zeros((img_height, img_width, 3))\n",
    "    print(num_cell_mask)\n",
    "    for i in range(num_cell_mask):\n",
    "        mask_part = np.where(make_label == i+1, 1, 0)\n",
    "        mask_part = ndi.binary_fill_holes(mask_part)\n",
    "        \n",
    "    \n",
    "    \n",
    "    "
   ]
  },
  {
   "cell_type": "code",
   "execution_count": 29,
   "metadata": {},
   "outputs": [
    {
     "name": "stdout",
     "output_type": "stream",
     "text": [
      "<numpy.lib.npyio.NpzFile object at 0x1c57735ba8>\n"
     ]
    }
   ],
   "source": [
    "imgs, masks_gt, contours_gt, masks_pred, contours_pred = load_data()"
   ]
  },
  {
   "cell_type": "code",
   "execution_count": 118,
   "metadata": {},
   "outputs": [
    {
     "name": "stdout",
     "output_type": "stream",
     "text": [
      "18\n",
      "cut the mask by contour\n"
     ]
    },
    {
     "data": {
      "image/png": "[encoded data removed]",
      "text/plain": [
       "<matplotlib.figure.Figure at 0x1c2ac2c9e8>"
      ]
     },
     "metadata": {},
     "output_type": "display_data"
    }
   ],
   "source": [
    "idx = int(imgs.shape[0] * np.random.rand())\n",
    "print(idx)\n",
    "img = imgs[idx]\n",
    "mask_gt = masks_gt[idx]\n",
    "contour_gt = contours_gt[idx]\n",
    "mask_pred = masks_pred[idx]\n",
    "contour_pred = contours_pred[idx]\n",
    "morphological_method_test(img, mask_gt, contour_gt, mask_pred, contour_pred)\n",
    "# visualize(img, mask_gt, contour_gt, mask_pred, contour_pred)"
   ]
  },
  {
   "cell_type": "code",
   "execution_count": null,
   "metadata": {
    "collapsed": true
   },
   "outputs": [],
   "source": []
  },
  {
   "cell_type": "code",
   "execution_count": null,
   "metadata": {
    "collapsed": true
   },
   "outputs": [],
   "source": []
  }
 ],
 "metadata": {
  "kernelspec": {
   "display_name": "Python 3",
   "language": "python",
   "name": "python3"
  },
  "language_info": {
   "codemirror_mode": {
    "name": "ipython",
    "version": 3
   },
   "file_extension": ".py",
   "mimetype": "text/x-python",
   "name": "python",
   "nbconvert_exporter": "python",
   "pygments_lexer": "ipython3",
   "version": "3.6.3"
  }
 },
 "nbformat": 4,
 "nbformat_minor": 2
}
